{
 "cells": [
  {
   "cell_type": "code",
   "execution_count": 1,
   "metadata": {},
   "outputs": [],
   "source": [
    "import pandas,numpy\n",
    "import seaborn , matplotlib\n",
    "%matplotlib inline\n",
    "import json"
   ]
  },
  {
   "cell_type": "code",
   "execution_count": 2,
   "metadata": {},
   "outputs": [],
   "source": [
    "import COVID19Py"
   ]
  },
  {
   "cell_type": "code",
   "execution_count": 3,
   "metadata": {},
   "outputs": [],
   "source": [
    "covid = COVID19Py.COVID19()"
   ]
  },
  {
   "cell_type": "code",
   "execution_count": 4,
   "metadata": {},
   "outputs": [
    {
     "data": {
      "text/plain": [
       "<COVID19Py.covid19.COVID19 at 0x7f2a1622cf98>"
      ]
     },
     "execution_count": 4,
     "metadata": {},
     "output_type": "execute_result"
    }
   ],
   "source": [
    "covid"
   ]
  },
  {
   "cell_type": "code",
   "execution_count": 5,
   "metadata": {},
   "outputs": [
    {
     "data": {
      "text/plain": [
       "{'confirmed': 1426096, 'deaths': 81865, 'recovered': 0}"
      ]
     },
     "execution_count": 5,
     "metadata": {},
     "output_type": "execute_result"
    }
   ],
   "source": [
    "covid.getLatest()"
   ]
  },
  {
   "cell_type": "code",
   "execution_count": 6,
   "metadata": {},
   "outputs": [
    {
     "data": {
      "text/plain": [
       "{'confirmed': 0, 'deaths': 0, 'recovered': 0}"
      ]
     },
     "execution_count": 6,
     "metadata": {},
     "output_type": "execute_result"
    }
   ],
   "source": [
    "covid.getLatestChanges()"
   ]
  },
  {
   "cell_type": "code",
   "execution_count": 7,
   "metadata": {},
   "outputs": [],
   "source": [
    "import subprocess , os,sys\n",
    "temp_file = open(\"temp.json\",'w')"
   ]
  },
  {
   "cell_type": "code",
   "execution_count": 8,
   "metadata": {},
   "outputs": [
    {
     "data": {
      "text/plain": [
       "0"
      ]
     },
     "execution_count": 8,
     "metadata": {},
     "output_type": "execute_result"
    }
   ],
   "source": [
    "subprocess.call(\"curl --location --request GET 'https://api.covid19api.com/summary'\" , shell=True , stdout = temp_file)"
   ]
  },
  {
   "cell_type": "code",
   "execution_count": 9,
   "metadata": {},
   "outputs": [],
   "source": [
    "with open(\"temp.json\",'r') as file:\n",
    "    output = json.load(file)"
   ]
  },
  {
   "cell_type": "code",
   "execution_count": 10,
   "metadata": {},
   "outputs": [
    {
     "data": {
      "text/plain": [
       "248"
      ]
     },
     "execution_count": 10,
     "metadata": {},
     "output_type": "execute_result"
    }
   ],
   "source": [
    "len(output['Countries'])"
   ]
  },
  {
   "cell_type": "code",
   "execution_count": null,
   "metadata": {},
   "outputs": [],
   "source": []
  },
  {
   "cell_type": "code",
   "execution_count": 11,
   "metadata": {},
   "outputs": [
    {
     "data": {
      "text/plain": [
       "array(['Country', 'CountryCode', 'Slug', 'NewConfirmed', 'TotalConfirmed',\n",
       "       'NewDeaths', 'TotalDeaths', 'NewRecovered', 'TotalRecovered',\n",
       "       'Date'], dtype='<U14')"
      ]
     },
     "execution_count": 11,
     "metadata": {},
     "output_type": "execute_result"
    }
   ],
   "source": [
    "numpy.array(list(output['Countries'][100].keys()))"
   ]
  },
  {
   "cell_type": "code",
   "execution_count": 12,
   "metadata": {},
   "outputs": [],
   "source": [
    "Data = pandas.DataFrame([list(output['Countries'][i].values()) for i in range(len(output['Countries'])) ] ,columns=list(output['Countries'][100].keys()))"
   ]
  },
  {
   "cell_type": "code",
   "execution_count": 13,
   "metadata": {},
   "outputs": [
    {
     "data": {
      "text/html": [
       "<div>\n",
       "<style scoped>\n",
       "    .dataframe tbody tr th:only-of-type {\n",
       "        vertical-align: middle;\n",
       "    }\n",
       "\n",
       "    .dataframe tbody tr th {\n",
       "        vertical-align: top;\n",
       "    }\n",
       "\n",
       "    .dataframe thead th {\n",
       "        text-align: right;\n",
       "    }\n",
       "</style>\n",
       "<table border=\"1\" class=\"dataframe\">\n",
       "  <thead>\n",
       "    <tr style=\"text-align: right;\">\n",
       "      <th></th>\n",
       "      <th>Country</th>\n",
       "      <th>CountryCode</th>\n",
       "      <th>Slug</th>\n",
       "      <th>NewConfirmed</th>\n",
       "      <th>TotalConfirmed</th>\n",
       "      <th>NewDeaths</th>\n",
       "      <th>TotalDeaths</th>\n",
       "      <th>NewRecovered</th>\n",
       "      <th>TotalRecovered</th>\n",
       "      <th>Date</th>\n",
       "    </tr>\n",
       "  </thead>\n",
       "  <tbody>\n",
       "    <tr>\n",
       "      <th>0</th>\n",
       "      <td>ALA Aland Islands</td>\n",
       "      <td>AX</td>\n",
       "      <td>ala-aland-islands</td>\n",
       "      <td>0</td>\n",
       "      <td>0</td>\n",
       "      <td>0</td>\n",
       "      <td>0</td>\n",
       "      <td>0</td>\n",
       "      <td>0</td>\n",
       "      <td>2020-04-08T18:21:24Z</td>\n",
       "    </tr>\n",
       "    <tr>\n",
       "      <th>1</th>\n",
       "      <td>Afghanistan</td>\n",
       "      <td>AF</td>\n",
       "      <td>afghanistan</td>\n",
       "      <td>56</td>\n",
       "      <td>423</td>\n",
       "      <td>3</td>\n",
       "      <td>14</td>\n",
       "      <td>0</td>\n",
       "      <td>18</td>\n",
       "      <td>2020-04-08T18:21:24Z</td>\n",
       "    </tr>\n",
       "    <tr>\n",
       "      <th>2</th>\n",
       "      <td>Albania</td>\n",
       "      <td>AL</td>\n",
       "      <td>albania</td>\n",
       "      <td>6</td>\n",
       "      <td>383</td>\n",
       "      <td>1</td>\n",
       "      <td>22</td>\n",
       "      <td>15</td>\n",
       "      <td>131</td>\n",
       "      <td>2020-04-08T18:21:24Z</td>\n",
       "    </tr>\n",
       "    <tr>\n",
       "      <th>3</th>\n",
       "      <td>Algeria</td>\n",
       "      <td>DZ</td>\n",
       "      <td>algeria</td>\n",
       "      <td>45</td>\n",
       "      <td>1468</td>\n",
       "      <td>20</td>\n",
       "      <td>193</td>\n",
       "      <td>23</td>\n",
       "      <td>113</td>\n",
       "      <td>2020-04-08T18:21:24Z</td>\n",
       "    </tr>\n",
       "    <tr>\n",
       "      <th>4</th>\n",
       "      <td>American Samoa</td>\n",
       "      <td>AS</td>\n",
       "      <td>american-samoa</td>\n",
       "      <td>0</td>\n",
       "      <td>0</td>\n",
       "      <td>0</td>\n",
       "      <td>0</td>\n",
       "      <td>0</td>\n",
       "      <td>0</td>\n",
       "      <td>2020-04-08T18:21:24Z</td>\n",
       "    </tr>\n",
       "  </tbody>\n",
       "</table>\n",
       "</div>"
      ],
      "text/plain": [
       "             Country CountryCode               Slug  NewConfirmed  \\\n",
       "0  ALA Aland Islands          AX  ala-aland-islands             0   \n",
       "1        Afghanistan          AF        afghanistan            56   \n",
       "2            Albania          AL            albania             6   \n",
       "3            Algeria          DZ            algeria            45   \n",
       "4     American Samoa          AS     american-samoa             0   \n",
       "\n",
       "   TotalConfirmed  NewDeaths  TotalDeaths  NewRecovered  TotalRecovered  \\\n",
       "0               0          0            0             0               0   \n",
       "1             423          3           14             0              18   \n",
       "2             383          1           22            15             131   \n",
       "3            1468         20          193            23             113   \n",
       "4               0          0            0             0               0   \n",
       "\n",
       "                   Date  \n",
       "0  2020-04-08T18:21:24Z  \n",
       "1  2020-04-08T18:21:24Z  \n",
       "2  2020-04-08T18:21:24Z  \n",
       "3  2020-04-08T18:21:24Z  \n",
       "4  2020-04-08T18:21:24Z  "
      ]
     },
     "execution_count": 13,
     "metadata": {},
     "output_type": "execute_result"
    }
   ],
   "source": [
    "Data.head()"
   ]
  },
  {
   "cell_type": "code",
   "execution_count": 14,
   "metadata": {},
   "outputs": [
    {
     "data": {
      "text/html": [
       "<div>\n",
       "<style scoped>\n",
       "    .dataframe tbody tr th:only-of-type {\n",
       "        vertical-align: middle;\n",
       "    }\n",
       "\n",
       "    .dataframe tbody tr th {\n",
       "        vertical-align: top;\n",
       "    }\n",
       "\n",
       "    .dataframe thead th {\n",
       "        text-align: right;\n",
       "    }\n",
       "</style>\n",
       "<table border=\"1\" class=\"dataframe\">\n",
       "  <thead>\n",
       "    <tr style=\"text-align: right;\">\n",
       "      <th></th>\n",
       "      <th>Country</th>\n",
       "      <th>CountryCode</th>\n",
       "      <th>Slug</th>\n",
       "      <th>NewConfirmed</th>\n",
       "      <th>TotalConfirmed</th>\n",
       "      <th>NewDeaths</th>\n",
       "      <th>TotalDeaths</th>\n",
       "      <th>NewRecovered</th>\n",
       "      <th>TotalRecovered</th>\n",
       "      <th>Date</th>\n",
       "    </tr>\n",
       "  </thead>\n",
       "  <tbody>\n",
       "    <tr>\n",
       "      <th>0</th>\n",
       "      <td>ALA Aland Islands</td>\n",
       "      <td>AX</td>\n",
       "      <td>ala-aland-islands</td>\n",
       "      <td>0</td>\n",
       "      <td>0</td>\n",
       "      <td>0</td>\n",
       "      <td>0</td>\n",
       "      <td>0</td>\n",
       "      <td>0</td>\n",
       "      <td>2020-04-08T18:21:24Z</td>\n",
       "    </tr>\n",
       "    <tr>\n",
       "      <th>1</th>\n",
       "      <td>Afghanistan</td>\n",
       "      <td>AF</td>\n",
       "      <td>afghanistan</td>\n",
       "      <td>56</td>\n",
       "      <td>423</td>\n",
       "      <td>3</td>\n",
       "      <td>14</td>\n",
       "      <td>0</td>\n",
       "      <td>18</td>\n",
       "      <td>2020-04-08T18:21:24Z</td>\n",
       "    </tr>\n",
       "    <tr>\n",
       "      <th>2</th>\n",
       "      <td>Albania</td>\n",
       "      <td>AL</td>\n",
       "      <td>albania</td>\n",
       "      <td>6</td>\n",
       "      <td>383</td>\n",
       "      <td>1</td>\n",
       "      <td>22</td>\n",
       "      <td>15</td>\n",
       "      <td>131</td>\n",
       "      <td>2020-04-08T18:21:24Z</td>\n",
       "    </tr>\n",
       "    <tr>\n",
       "      <th>3</th>\n",
       "      <td>Algeria</td>\n",
       "      <td>DZ</td>\n",
       "      <td>algeria</td>\n",
       "      <td>45</td>\n",
       "      <td>1468</td>\n",
       "      <td>20</td>\n",
       "      <td>193</td>\n",
       "      <td>23</td>\n",
       "      <td>113</td>\n",
       "      <td>2020-04-08T18:21:24Z</td>\n",
       "    </tr>\n",
       "    <tr>\n",
       "      <th>4</th>\n",
       "      <td>American Samoa</td>\n",
       "      <td>AS</td>\n",
       "      <td>american-samoa</td>\n",
       "      <td>0</td>\n",
       "      <td>0</td>\n",
       "      <td>0</td>\n",
       "      <td>0</td>\n",
       "      <td>0</td>\n",
       "      <td>0</td>\n",
       "      <td>2020-04-08T18:21:24Z</td>\n",
       "    </tr>\n",
       "  </tbody>\n",
       "</table>\n",
       "</div>"
      ],
      "text/plain": [
       "             Country CountryCode               Slug  NewConfirmed  \\\n",
       "0  ALA Aland Islands          AX  ala-aland-islands             0   \n",
       "1        Afghanistan          AF        afghanistan            56   \n",
       "2            Albania          AL            albania             6   \n",
       "3            Algeria          DZ            algeria            45   \n",
       "4     American Samoa          AS     american-samoa             0   \n",
       "\n",
       "   TotalConfirmed  NewDeaths  TotalDeaths  NewRecovered  TotalRecovered  \\\n",
       "0               0          0            0             0               0   \n",
       "1             423          3           14             0              18   \n",
       "2             383          1           22            15             131   \n",
       "3            1468         20          193            23             113   \n",
       "4               0          0            0             0               0   \n",
       "\n",
       "                   Date  \n",
       "0  2020-04-08T18:21:24Z  \n",
       "1  2020-04-08T18:21:24Z  \n",
       "2  2020-04-08T18:21:24Z  \n",
       "3  2020-04-08T18:21:24Z  \n",
       "4  2020-04-08T18:21:24Z  "
      ]
     },
     "execution_count": 14,
     "metadata": {},
     "output_type": "execute_result"
    }
   ],
   "source": [
    "Data.head()"
   ]
  },
  {
   "cell_type": "code",
   "execution_count": 15,
   "metadata": {},
   "outputs": [],
   "source": [
    "Data = Data.drop('Slug',axis=1)"
   ]
  },
  {
   "cell_type": "code",
   "execution_count": 16,
   "metadata": {},
   "outputs": [
    {
     "data": {
      "text/html": [
       "<div>\n",
       "<style scoped>\n",
       "    .dataframe tbody tr th:only-of-type {\n",
       "        vertical-align: middle;\n",
       "    }\n",
       "\n",
       "    .dataframe tbody tr th {\n",
       "        vertical-align: top;\n",
       "    }\n",
       "\n",
       "    .dataframe thead th {\n",
       "        text-align: right;\n",
       "    }\n",
       "</style>\n",
       "<table border=\"1\" class=\"dataframe\">\n",
       "  <thead>\n",
       "    <tr style=\"text-align: right;\">\n",
       "      <th></th>\n",
       "      <th>Country</th>\n",
       "      <th>CountryCode</th>\n",
       "      <th>NewConfirmed</th>\n",
       "      <th>TotalConfirmed</th>\n",
       "      <th>NewDeaths</th>\n",
       "      <th>TotalDeaths</th>\n",
       "      <th>NewRecovered</th>\n",
       "      <th>TotalRecovered</th>\n",
       "      <th>Date</th>\n",
       "    </tr>\n",
       "  </thead>\n",
       "  <tbody>\n",
       "    <tr>\n",
       "      <th>0</th>\n",
       "      <td>ALA Aland Islands</td>\n",
       "      <td>AX</td>\n",
       "      <td>0</td>\n",
       "      <td>0</td>\n",
       "      <td>0</td>\n",
       "      <td>0</td>\n",
       "      <td>0</td>\n",
       "      <td>0</td>\n",
       "      <td>2020-04-08T18:21:24Z</td>\n",
       "    </tr>\n",
       "    <tr>\n",
       "      <th>1</th>\n",
       "      <td>Afghanistan</td>\n",
       "      <td>AF</td>\n",
       "      <td>56</td>\n",
       "      <td>423</td>\n",
       "      <td>3</td>\n",
       "      <td>14</td>\n",
       "      <td>0</td>\n",
       "      <td>18</td>\n",
       "      <td>2020-04-08T18:21:24Z</td>\n",
       "    </tr>\n",
       "    <tr>\n",
       "      <th>2</th>\n",
       "      <td>Albania</td>\n",
       "      <td>AL</td>\n",
       "      <td>6</td>\n",
       "      <td>383</td>\n",
       "      <td>1</td>\n",
       "      <td>22</td>\n",
       "      <td>15</td>\n",
       "      <td>131</td>\n",
       "      <td>2020-04-08T18:21:24Z</td>\n",
       "    </tr>\n",
       "    <tr>\n",
       "      <th>3</th>\n",
       "      <td>Algeria</td>\n",
       "      <td>DZ</td>\n",
       "      <td>45</td>\n",
       "      <td>1468</td>\n",
       "      <td>20</td>\n",
       "      <td>193</td>\n",
       "      <td>23</td>\n",
       "      <td>113</td>\n",
       "      <td>2020-04-08T18:21:24Z</td>\n",
       "    </tr>\n",
       "    <tr>\n",
       "      <th>4</th>\n",
       "      <td>American Samoa</td>\n",
       "      <td>AS</td>\n",
       "      <td>0</td>\n",
       "      <td>0</td>\n",
       "      <td>0</td>\n",
       "      <td>0</td>\n",
       "      <td>0</td>\n",
       "      <td>0</td>\n",
       "      <td>2020-04-08T18:21:24Z</td>\n",
       "    </tr>\n",
       "  </tbody>\n",
       "</table>\n",
       "</div>"
      ],
      "text/plain": [
       "             Country CountryCode  NewConfirmed  TotalConfirmed  NewDeaths  \\\n",
       "0  ALA Aland Islands          AX             0               0          0   \n",
       "1        Afghanistan          AF            56             423          3   \n",
       "2            Albania          AL             6             383          1   \n",
       "3            Algeria          DZ            45            1468         20   \n",
       "4     American Samoa          AS             0               0          0   \n",
       "\n",
       "   TotalDeaths  NewRecovered  TotalRecovered                  Date  \n",
       "0            0             0               0  2020-04-08T18:21:24Z  \n",
       "1           14             0              18  2020-04-08T18:21:24Z  \n",
       "2           22            15             131  2020-04-08T18:21:24Z  \n",
       "3          193            23             113  2020-04-08T18:21:24Z  \n",
       "4            0             0               0  2020-04-08T18:21:24Z  "
      ]
     },
     "execution_count": 16,
     "metadata": {},
     "output_type": "execute_result"
    }
   ],
   "source": [
    "Data.head()"
   ]
  },
  {
   "cell_type": "code",
   "execution_count": 17,
   "metadata": {},
   "outputs": [],
   "source": [
    "Data = Data.sort_values('TotalConfirmed' , axis=0,ascending=False)"
   ]
  },
  {
   "cell_type": "code",
   "execution_count": 18,
   "metadata": {},
   "outputs": [
    {
     "data": {
      "text/html": [
       "<div>\n",
       "<style scoped>\n",
       "    .dataframe tbody tr th:only-of-type {\n",
       "        vertical-align: middle;\n",
       "    }\n",
       "\n",
       "    .dataframe tbody tr th {\n",
       "        vertical-align: top;\n",
       "    }\n",
       "\n",
       "    .dataframe thead th {\n",
       "        text-align: right;\n",
       "    }\n",
       "</style>\n",
       "<table border=\"1\" class=\"dataframe\">\n",
       "  <thead>\n",
       "    <tr style=\"text-align: right;\">\n",
       "      <th></th>\n",
       "      <th>Country</th>\n",
       "      <th>CountryCode</th>\n",
       "      <th>NewConfirmed</th>\n",
       "      <th>TotalConfirmed</th>\n",
       "      <th>NewDeaths</th>\n",
       "      <th>TotalDeaths</th>\n",
       "      <th>NewRecovered</th>\n",
       "      <th>TotalRecovered</th>\n",
       "      <th>Date</th>\n",
       "    </tr>\n",
       "  </thead>\n",
       "  <tbody>\n",
       "    <tr>\n",
       "      <th>236</th>\n",
       "      <td>United States of America</td>\n",
       "      <td>US</td>\n",
       "      <td>29614</td>\n",
       "      <td>396221</td>\n",
       "      <td>1938</td>\n",
       "      <td>12721</td>\n",
       "      <td>2182</td>\n",
       "      <td>21763</td>\n",
       "      <td>2020-04-08T18:21:24Z</td>\n",
       "    </tr>\n",
       "    <tr>\n",
       "      <th>208</th>\n",
       "      <td>Spain</td>\n",
       "      <td>ES</td>\n",
       "      <td>5267</td>\n",
       "      <td>141942</td>\n",
       "      <td>704</td>\n",
       "      <td>14045</td>\n",
       "      <td>2771</td>\n",
       "      <td>43208</td>\n",
       "      <td>2020-04-08T18:21:24Z</td>\n",
       "    </tr>\n",
       "    <tr>\n",
       "      <th>108</th>\n",
       "      <td>Italy</td>\n",
       "      <td>IT</td>\n",
       "      <td>3039</td>\n",
       "      <td>135586</td>\n",
       "      <td>604</td>\n",
       "      <td>17127</td>\n",
       "      <td>1555</td>\n",
       "      <td>24392</td>\n",
       "      <td>2020-04-08T18:21:24Z</td>\n",
       "    </tr>\n",
       "    <tr>\n",
       "      <th>74</th>\n",
       "      <td>France</td>\n",
       "      <td>FR</td>\n",
       "      <td>11102</td>\n",
       "      <td>110065</td>\n",
       "      <td>1417</td>\n",
       "      <td>10343</td>\n",
       "      <td>2095</td>\n",
       "      <td>19523</td>\n",
       "      <td>2020-04-08T18:21:24Z</td>\n",
       "    </tr>\n",
       "    <tr>\n",
       "      <th>81</th>\n",
       "      <td>Germany</td>\n",
       "      <td>DE</td>\n",
       "      <td>4289</td>\n",
       "      <td>107663</td>\n",
       "      <td>206</td>\n",
       "      <td>2016</td>\n",
       "      <td>7381</td>\n",
       "      <td>36081</td>\n",
       "      <td>2020-04-08T18:21:24Z</td>\n",
       "    </tr>\n",
       "    <tr>\n",
       "      <th>45</th>\n",
       "      <td>China</td>\n",
       "      <td>CN</td>\n",
       "      <td>53</td>\n",
       "      <td>82718</td>\n",
       "      <td>0</td>\n",
       "      <td>3335</td>\n",
       "      <td>100</td>\n",
       "      <td>77410</td>\n",
       "      <td>2020-04-08T18:21:24Z</td>\n",
       "    </tr>\n",
       "    <tr>\n",
       "      <th>103</th>\n",
       "      <td>Iran, Islamic Republic of</td>\n",
       "      <td>IR</td>\n",
       "      <td>2089</td>\n",
       "      <td>62589</td>\n",
       "      <td>133</td>\n",
       "      <td>3872</td>\n",
       "      <td>2803</td>\n",
       "      <td>27039</td>\n",
       "      <td>2020-04-08T18:21:24Z</td>\n",
       "    </tr>\n",
       "    <tr>\n",
       "      <th>235</th>\n",
       "      <td>United Kingdom</td>\n",
       "      <td>GB</td>\n",
       "      <td>3670</td>\n",
       "      <td>55949</td>\n",
       "      <td>786</td>\n",
       "      <td>6171</td>\n",
       "      <td>38</td>\n",
       "      <td>325</td>\n",
       "      <td>2020-04-08T18:21:24Z</td>\n",
       "    </tr>\n",
       "    <tr>\n",
       "      <th>227</th>\n",
       "      <td>Turkey</td>\n",
       "      <td>TR</td>\n",
       "      <td>3892</td>\n",
       "      <td>34109</td>\n",
       "      <td>76</td>\n",
       "      <td>725</td>\n",
       "      <td>256</td>\n",
       "      <td>1582</td>\n",
       "      <td>2020-04-08T18:21:24Z</td>\n",
       "    </tr>\n",
       "    <tr>\n",
       "      <th>215</th>\n",
       "      <td>Switzerland</td>\n",
       "      <td>CH</td>\n",
       "      <td>596</td>\n",
       "      <td>22253</td>\n",
       "      <td>56</td>\n",
       "      <td>821</td>\n",
       "      <td>648</td>\n",
       "      <td>8704</td>\n",
       "      <td>2020-04-08T18:21:24Z</td>\n",
       "    </tr>\n",
       "  </tbody>\n",
       "</table>\n",
       "</div>"
      ],
      "text/plain": [
       "                       Country CountryCode  NewConfirmed  TotalConfirmed  \\\n",
       "236   United States of America          US         29614          396221   \n",
       "208                      Spain          ES          5267          141942   \n",
       "108                      Italy          IT          3039          135586   \n",
       "74                      France          FR         11102          110065   \n",
       "81                     Germany          DE          4289          107663   \n",
       "45                       China          CN            53           82718   \n",
       "103  Iran, Islamic Republic of          IR          2089           62589   \n",
       "235             United Kingdom          GB          3670           55949   \n",
       "227                     Turkey          TR          3892           34109   \n",
       "215                Switzerland          CH           596           22253   \n",
       "\n",
       "     NewDeaths  TotalDeaths  NewRecovered  TotalRecovered  \\\n",
       "236       1938        12721          2182           21763   \n",
       "208        704        14045          2771           43208   \n",
       "108        604        17127          1555           24392   \n",
       "74        1417        10343          2095           19523   \n",
       "81         206         2016          7381           36081   \n",
       "45           0         3335           100           77410   \n",
       "103        133         3872          2803           27039   \n",
       "235        786         6171            38             325   \n",
       "227         76          725           256            1582   \n",
       "215         56          821           648            8704   \n",
       "\n",
       "                     Date  \n",
       "236  2020-04-08T18:21:24Z  \n",
       "208  2020-04-08T18:21:24Z  \n",
       "108  2020-04-08T18:21:24Z  \n",
       "74   2020-04-08T18:21:24Z  \n",
       "81   2020-04-08T18:21:24Z  \n",
       "45   2020-04-08T18:21:24Z  \n",
       "103  2020-04-08T18:21:24Z  \n",
       "235  2020-04-08T18:21:24Z  \n",
       "227  2020-04-08T18:21:24Z  \n",
       "215  2020-04-08T18:21:24Z  "
      ]
     },
     "execution_count": 18,
     "metadata": {},
     "output_type": "execute_result"
    }
   ],
   "source": [
    "Data.head(10)"
   ]
  },
  {
   "cell_type": "code",
   "execution_count": 20,
   "metadata": {},
   "outputs": [
    {
     "data": {
      "text/plain": [
       "<matplotlib.axes._subplots.AxesSubplot at 0x7f2a13e308d0>"
      ]
     },
     "execution_count": 20,
     "metadata": {},
     "output_type": "execute_result"
    },
    {
     "data": {
      "image/png": "[encoded data removed]",
      "text/plain": [
       "<Figure size 432x288 with 1 Axes>"
      ]
     },
     "metadata": {
      "needs_background": "light"
     },
     "output_type": "display_data"
    }
   ],
   "source": [
    "seaborn.barplot(x='CountryCode' , y='TotalConfirmed' , data=Data.head(10))"
   ]
  },
  {
   "cell_type": "code",
   "execution_count": 20,
   "metadata": {},
   "outputs": [],
   "source": [
    "Cases = list(Data.iloc[1][[3,5,7]])"
   ]
  },
  {
   "cell_type": "code",
   "execution_count": 21,
   "metadata": {},
   "outputs": [],
   "source": [
    "Cases_key = ['TotalConfirmed' , 'TotalDeaths' , 'TotalRecoved']"
   ]
  },
  {
   "cell_type": "code",
   "execution_count": 21,
   "metadata": {},
   "outputs": [],
   "source": [
    "import subprocess , os,sys\n",
    "countries = open(\"Countries.json\",'w')"
   ]
  },
  {
   "cell_type": "code",
   "execution_count": 22,
   "metadata": {},
   "outputs": [
    {
     "data": {
      "text/plain": [
       "0"
      ]
     },
     "execution_count": 22,
     "metadata": {},
     "output_type": "execute_result"
    }
   ],
   "source": [
    "subprocess.call(\"curl --location --request GET 'https://api.covid19api.com/countries'\" , shell=True , stdout = countries)"
   ]
  },
  {
   "cell_type": "code",
   "execution_count": 23,
   "metadata": {},
   "outputs": [],
   "source": [
    "with open(\"Countries.json\",'r') as file:\n",
    "    output_countries = json.load(file)"
   ]
  },
  {
   "cell_type": "code",
   "execution_count": 24,
   "metadata": {},
   "outputs": [
    {
     "data": {
      "text/plain": [
       "dict_keys(['Country', 'Slug', 'ISO2'])"
      ]
     },
     "execution_count": 24,
     "metadata": {},
     "output_type": "execute_result"
    }
   ],
   "source": [
    "output_countries[0].keys()\n",
    "#list(output_countries[0].values())\n",
    "#len(output_countries)"
   ]
  },
  {
   "cell_type": "code",
   "execution_count": 132,
   "metadata": {},
   "outputs": [],
   "source": [
    "Countries_DataFrame = pandas.DataFrame([list(output_countries[i].values()) for i in range(len(output_countries)) ] ,columns=list(output_countries[100].keys()))"
   ]
  },
  {
   "cell_type": "code",
   "execution_count": 102,
   "metadata": {},
   "outputs": [
    {
     "name": "stdout",
     "output_type": "stream",
     "text": [
      "248\n",
      "https://api.covid19api.com/live/country/india/status/confirmed\n"
     ]
    }
   ],
   "source": [
    "for country in Countries_DataFrame['Slug']:\n",
    "    pass\n",
    "print(len(Countries_DataFrame['Slug']))\n",
    "URL = 'https://api.covid19api.com/live/country/'+str('india')+'/status/confirmed'\n",
    "print(URL)"
   ]
  },
  {
   "cell_type": "code",
   "execution_count": 124,
   "metadata": {},
   "outputs": [],
   "source": [
    "def Country_Data_Load(value):\n",
    "    countries_name = open(\"Country Live Data/\"+str(value[0])+\".json\",'w')\n",
    "    \n",
    "    URL = 'https://api.covid19api.com/live/country/'+str(value[1])+'/status/confirmed/date/2020-01-01T00:00:00Z'\n",
    "    subprocess.call(\"curl --location --request GET \"+str(URL)+ \"\" , shell=True , stdout = countries_name)\n",
    "    \n",
    "    "
   ]
  },
  {
   "cell_type": "code",
   "execution_count": 125,
   "metadata": {},
   "outputs": [
    {
     "data": {
      "text/plain": [
       "0      None\n",
       "1      None\n",
       "2      None\n",
       "3      None\n",
       "4      None\n",
       "5      None\n",
       "6      None\n",
       "7      None\n",
       "8      None\n",
       "9      None\n",
       "10     None\n",
       "11     None\n",
       "12     None\n",
       "13     None\n",
       "14     None\n",
       "15     None\n",
       "16     None\n",
       "17     None\n",
       "18     None\n",
       "19     None\n",
       "20     None\n",
       "21     None\n",
       "22     None\n",
       "23     None\n",
       "24     None\n",
       "25     None\n",
       "26     None\n",
       "27     None\n",
       "28     None\n",
       "29     None\n",
       "       ... \n",
       "218    None\n",
       "219    None\n",
       "220    None\n",
       "221    None\n",
       "222    None\n",
       "223    None\n",
       "224    None\n",
       "225    None\n",
       "226    None\n",
       "227    None\n",
       "228    None\n",
       "229    None\n",
       "230    None\n",
       "231    None\n",
       "232    None\n",
       "233    None\n",
       "234    None\n",
       "235    None\n",
       "236    None\n",
       "237    None\n",
       "238    None\n",
       "239    None\n",
       "240    None\n",
       "241    None\n",
       "242    None\n",
       "243    None\n",
       "244    None\n",
       "245    None\n",
       "246    None\n",
       "247    None\n",
       "Length: 248, dtype: object"
      ]
     },
     "execution_count": 125,
     "metadata": {},
     "output_type": "execute_result"
    }
   ],
   "source": [
    "Countries_DataFrame[['Country' , 'Slug']].apply(Country_Data_Load,axis=1)"
   ]
  },
  {
   "cell_type": "code",
   "execution_count": 96,
   "metadata": {},
   "outputs": [
    {
     "name": "stdout",
     "output_type": "stream",
     "text": [
      "https://api.covid19api.com/live/country/india/status/confirmed\n"
     ]
    },
    {
     "data": {
      "text/plain": [
       "0"
      ]
     },
     "execution_count": 96,
     "metadata": {},
     "output_type": "execute_result"
    }
   ],
   "source": [
    "#URL = 'https://api.covid19api.com/live/country/'+str('india')+'/status/confirmed'\n",
    "#print(URL)\n",
    "#countries_india = open(\"Countries.json\",'w')\n",
    "#subprocess.call(\"curl --location --request GET \"+str(URL)+ \"\" , shell=True , stdout = countries_india)"
   ]
  },
  {
   "cell_type": "code",
   "execution_count": 128,
   "metadata": {},
   "outputs": [
    {
     "name": "stdout",
     "output_type": "stream",
     "text": [
      "{'Country': 'India', 'CountryCode': 'IN', 'Lat': '20.59', 'Lon': '78.96', 'Confirmed': 3082, 'Deaths': 86, 'Recovered': 229, 'Active': 2767, 'Date': '2020-04-04T00:00:00Z', 'LocationID': '6a828e02-a8cb-44e4-ae55-f6b1fc61c274'}\n",
      "3\n"
     ]
    }
   ],
   "source": [
    "with open(\"Country Live Data/India.json\",'r') as file:\n",
    "    output_countries = json.load(file)\n",
    "print(output_countries[0])\n",
    "print(len(output_countries))"
   ]
  },
  {
   "cell_type": "code",
   "execution_count": 133,
   "metadata": {},
   "outputs": [
    {
     "data": {
      "text/html": [
       "<div>\n",
       "<style scoped>\n",
       "    .dataframe tbody tr th:only-of-type {\n",
       "        vertical-align: middle;\n",
       "    }\n",
       "\n",
       "    .dataframe tbody tr th {\n",
       "        vertical-align: top;\n",
       "    }\n",
       "\n",
       "    .dataframe thead th {\n",
       "        text-align: right;\n",
       "    }\n",
       "</style>\n",
       "<table border=\"1\" class=\"dataframe\">\n",
       "  <thead>\n",
       "    <tr style=\"text-align: right;\">\n",
       "      <th></th>\n",
       "      <th>Country</th>\n",
       "      <th>CountryCode</th>\n",
       "      <th>NewConfirmed</th>\n",
       "      <th>TotalConfirmed</th>\n",
       "      <th>NewDeaths</th>\n",
       "      <th>TotalDeaths</th>\n",
       "      <th>NewRecovered</th>\n",
       "      <th>TotalRecovered</th>\n",
       "      <th>Date</th>\n",
       "    </tr>\n",
       "  </thead>\n",
       "  <tbody>\n",
       "    <tr>\n",
       "      <th>233</th>\n",
       "      <td>United States of America</td>\n",
       "      <td>US</td>\n",
       "      <td>61483</td>\n",
       "      <td>337065</td>\n",
       "      <td>2532</td>\n",
       "      <td>9619</td>\n",
       "      <td>17448</td>\n",
       "      <td>17448</td>\n",
       "      <td>2020-04-06T18:38:35Z</td>\n",
       "    </tr>\n",
       "    <tr>\n",
       "      <th>205</th>\n",
       "      <td>Spain</td>\n",
       "      <td>ES</td>\n",
       "      <td>5478</td>\n",
       "      <td>131646</td>\n",
       "      <td>694</td>\n",
       "      <td>12641</td>\n",
       "      <td>3861</td>\n",
       "      <td>38080</td>\n",
       "      <td>2020-04-06T18:38:35Z</td>\n",
       "    </tr>\n",
       "    <tr>\n",
       "      <th>106</th>\n",
       "      <td>Italy</td>\n",
       "      <td>IT</td>\n",
       "      <td>4316</td>\n",
       "      <td>128948</td>\n",
       "      <td>525</td>\n",
       "      <td>15887</td>\n",
       "      <td>819</td>\n",
       "      <td>21815</td>\n",
       "      <td>2020-04-06T18:38:35Z</td>\n",
       "    </tr>\n",
       "    <tr>\n",
       "      <th>79</th>\n",
       "      <td>Germany</td>\n",
       "      <td>DE</td>\n",
       "      <td>4031</td>\n",
       "      <td>100123</td>\n",
       "      <td>140</td>\n",
       "      <td>1584</td>\n",
       "      <td>2300</td>\n",
       "      <td>28700</td>\n",
       "      <td>2020-04-06T18:38:35Z</td>\n",
       "    </tr>\n",
       "    <tr>\n",
       "      <th>72</th>\n",
       "      <td>France</td>\n",
       "      <td>FR</td>\n",
       "      <td>2925</td>\n",
       "      <td>93773</td>\n",
       "      <td>519</td>\n",
       "      <td>8093</td>\n",
       "      <td>777</td>\n",
       "      <td>16349</td>\n",
       "      <td>2020-04-06T18:38:35Z</td>\n",
       "    </tr>\n",
       "  </tbody>\n",
       "</table>\n",
       "</div>"
      ],
      "text/plain": [
       "                      Country CountryCode  NewConfirmed  TotalConfirmed  \\\n",
       "233  United States of America          US         61483          337065   \n",
       "205                     Spain          ES          5478          131646   \n",
       "106                     Italy          IT          4316          128948   \n",
       "79                    Germany          DE          4031          100123   \n",
       "72                     France          FR          2925           93773   \n",
       "\n",
       "     NewDeaths  TotalDeaths  NewRecovered  TotalRecovered  \\\n",
       "233       2532         9619         17448           17448   \n",
       "205        694        12641          3861           38080   \n",
       "106        525        15887           819           21815   \n",
       "79         140         1584          2300           28700   \n",
       "72         519         8093           777           16349   \n",
       "\n",
       "                     Date  \n",
       "233  2020-04-06T18:38:35Z  \n",
       "205  2020-04-06T18:38:35Z  \n",
       "106  2020-04-06T18:38:35Z  \n",
       "79   2020-04-06T18:38:35Z  \n",
       "72   2020-04-06T18:38:35Z  "
      ]
     },
     "execution_count": 133,
     "metadata": {},
     "output_type": "execute_result"
    }
   ],
   "source": [
    "Data.head()"
   ]
  },
  {
   "cell_type": "code",
   "execution_count": 46,
   "metadata": {},
   "outputs": [],
   "source": [
    "import plotly\n",
    "from plotly.offline import download_plotlyjs , init_notebook_mode , plot , iplot,plot_mpl\n",
    "import plotly.graph_objects as graph\n",
    "plotly.io.orca.config.executable = '/usr/bin/orca'\n",
    "plotly.io.orca.config.save()\n",
    "from selenium import webdriver"
   ]
  },
  {
   "cell_type": "code",
   "execution_count": 47,
   "metadata": {},
   "outputs": [
    {
     "data": {
      "text/html": [
       "        <script type=\"text/javascript\">\n",
       "        window.PlotlyConfig = {MathJaxConfig: 'local'};\n",
       "        if (window.MathJax) {MathJax.Hub.Config({SVG: {font: \"STIX-Web\"}});}\n",
       "        if (typeof require !== 'undefined') {\n",
       "        require.undef(\"plotly\");\n",
       "        requirejs.config({\n",
       "            paths: {\n",
       "                'plotly': ['https://cdn.plot.ly/plotly-latest.min']\n",
       "            }\n",
       "        });\n",
       "        require(['plotly'], function(Plotly) {\n",
       "            window._Plotly = Plotly;\n",
       "        });\n",
       "        }\n",
       "        </script>\n",
       "        "
      ]
     },
     "metadata": {},
     "output_type": "display_data"
    }
   ],
   "source": [
    "init_notebook_mode(connected=True)"
   ]
  },
  {
   "cell_type": "code",
   "execution_count": null,
   "metadata": {},
   "outputs": [],
   "source": []
  },
  {
   "cell_type": "code",
   "execution_count": 48,
   "metadata": {},
   "outputs": [],
   "source": [
    "map_data = dict(\n",
    "    type = 'choropleth',\n",
    "    locations = Data['Country'],\n",
    "    locationmode='country names',\n",
    "    colorscale = 'viridis',\n",
    "    z=Data['TotalConfirmed']\n",
    "\n",
    ")"
   ]
  },
  {
   "cell_type": "code",
   "execution_count": 49,
   "metadata": {},
   "outputs": [
    {
     "ename": "AttributeError",
     "evalue": "'Figure' object has no attribute 'canvas'",
     "output_type": "error",
     "traceback": [
      "\u001b[0;31m---------------------------------------------------------------------------\u001b[0m",
      "\u001b[0;31mAttributeError\u001b[0m                            Traceback (most recent call last)",
      "\u001b[0;32m<ipython-input-49-5a2ab585948c>\u001b[0m in \u001b[0;36m<module>\u001b[0;34m\u001b[0m\n\u001b[1;32m      2\u001b[0m \u001b[0;31m#plotly.offline.plot(map)\u001b[0m\u001b[0;34m\u001b[0m\u001b[0;34m\u001b[0m\u001b[0;34m\u001b[0m\u001b[0m\n\u001b[1;32m      3\u001b[0m \u001b[0;31m#map.write_image('image.png')\u001b[0m\u001b[0;34m\u001b[0m\u001b[0;34m\u001b[0m\u001b[0;34m\u001b[0m\u001b[0m\n\u001b[0;32m----> 4\u001b[0;31m \u001b[0mplot_mpl\u001b[0m\u001b[0;34m(\u001b[0m\u001b[0mmap\u001b[0m\u001b[0;34m)\u001b[0m\u001b[0;34m\u001b[0m\u001b[0;34m\u001b[0m\u001b[0m\n\u001b[0m\u001b[1;32m      5\u001b[0m \u001b[0mplot_mpl\u001b[0m\u001b[0;34m(\u001b[0m\u001b[0mmap\u001b[0m\u001b[0;34m,\u001b[0m \u001b[0mimage\u001b[0m\u001b[0;34m=\u001b[0m\u001b[0;34m'png'\u001b[0m\u001b[0;34m)\u001b[0m\u001b[0;34m\u001b[0m\u001b[0;34m\u001b[0m\u001b[0m\n",
      "\u001b[0;32m~/Anaconda/lib/python3.7/site-packages/plotly/offline/offline.py\u001b[0m in \u001b[0;36mplot_mpl\u001b[0;34m(mpl_fig, resize, strip_style, verbose, show_link, link_text, validate, output_type, include_plotlyjs, filename, auto_open, image, image_filename, image_height, image_width)\u001b[0m\n\u001b[1;32m    697\u001b[0m     \u001b[0;31m`\u001b[0m\u001b[0;31m`\u001b[0m\u001b[0;31m`\u001b[0m\u001b[0;34m\u001b[0m\u001b[0;34m\u001b[0m\u001b[0m\n\u001b[1;32m    698\u001b[0m     \"\"\"\n\u001b[0;32m--> 699\u001b[0;31m     \u001b[0mplotly_plot\u001b[0m \u001b[0;34m=\u001b[0m \u001b[0mplotly\u001b[0m\u001b[0;34m.\u001b[0m\u001b[0mtools\u001b[0m\u001b[0;34m.\u001b[0m\u001b[0mmpl_to_plotly\u001b[0m\u001b[0;34m(\u001b[0m\u001b[0mmpl_fig\u001b[0m\u001b[0;34m,\u001b[0m \u001b[0mresize\u001b[0m\u001b[0;34m,\u001b[0m \u001b[0mstrip_style\u001b[0m\u001b[0;34m,\u001b[0m \u001b[0mverbose\u001b[0m\u001b[0;34m)\u001b[0m\u001b[0;34m\u001b[0m\u001b[0;34m\u001b[0m\u001b[0m\n\u001b[0m\u001b[1;32m    700\u001b[0m     return plot(\n\u001b[1;32m    701\u001b[0m         \u001b[0mplotly_plot\u001b[0m\u001b[0;34m,\u001b[0m\u001b[0;34m\u001b[0m\u001b[0;34m\u001b[0m\u001b[0m\n",
      "\u001b[0;32m~/Anaconda/lib/python3.7/site-packages/plotly/tools.py\u001b[0m in \u001b[0;36mmpl_to_plotly\u001b[0;34m(fig, resize, strip_style, verbose)\u001b[0m\n\u001b[1;32m    110\u001b[0m     \u001b[0;32mif\u001b[0m \u001b[0mmatplotlylib\u001b[0m\u001b[0;34m:\u001b[0m\u001b[0;34m\u001b[0m\u001b[0;34m\u001b[0m\u001b[0m\n\u001b[1;32m    111\u001b[0m         \u001b[0mrenderer\u001b[0m \u001b[0;34m=\u001b[0m \u001b[0mmatplotlylib\u001b[0m\u001b[0;34m.\u001b[0m\u001b[0mPlotlyRenderer\u001b[0m\u001b[0;34m(\u001b[0m\u001b[0;34m)\u001b[0m\u001b[0;34m\u001b[0m\u001b[0;34m\u001b[0m\u001b[0m\n\u001b[0;32m--> 112\u001b[0;31m         \u001b[0mmatplotlylib\u001b[0m\u001b[0;34m.\u001b[0m\u001b[0mExporter\u001b[0m\u001b[0;34m(\u001b[0m\u001b[0mrenderer\u001b[0m\u001b[0;34m)\u001b[0m\u001b[0;34m.\u001b[0m\u001b[0mrun\u001b[0m\u001b[0;34m(\u001b[0m\u001b[0mfig\u001b[0m\u001b[0;34m)\u001b[0m\u001b[0;34m\u001b[0m\u001b[0;34m\u001b[0m\u001b[0m\n\u001b[0m\u001b[1;32m    113\u001b[0m         \u001b[0;32mif\u001b[0m \u001b[0mresize\u001b[0m\u001b[0;34m:\u001b[0m\u001b[0;34m\u001b[0m\u001b[0;34m\u001b[0m\u001b[0m\n\u001b[1;32m    114\u001b[0m             \u001b[0mrenderer\u001b[0m\u001b[0;34m.\u001b[0m\u001b[0mresize\u001b[0m\u001b[0;34m(\u001b[0m\u001b[0;34m)\u001b[0m\u001b[0;34m\u001b[0m\u001b[0;34m\u001b[0m\u001b[0m\n",
      "\u001b[0;32m~/Anaconda/lib/python3.7/site-packages/plotly/matplotlylib/mplexporter/exporter.py\u001b[0m in \u001b[0;36mrun\u001b[0;34m(self, fig)\u001b[0m\n\u001b[1;32m     43\u001b[0m         \u001b[0;31m# Calling savefig executes the draw() command, putting elements\u001b[0m\u001b[0;34m\u001b[0m\u001b[0;34m\u001b[0m\u001b[0;34m\u001b[0m\u001b[0m\n\u001b[1;32m     44\u001b[0m         \u001b[0;31m# in the correct place.\u001b[0m\u001b[0;34m\u001b[0m\u001b[0;34m\u001b[0m\u001b[0;34m\u001b[0m\u001b[0m\n\u001b[0;32m---> 45\u001b[0;31m         \u001b[0;32mif\u001b[0m \u001b[0mfig\u001b[0m\u001b[0;34m.\u001b[0m\u001b[0mcanvas\u001b[0m \u001b[0;32mis\u001b[0m \u001b[0;32mNone\u001b[0m\u001b[0;34m:\u001b[0m\u001b[0;34m\u001b[0m\u001b[0;34m\u001b[0m\u001b[0m\n\u001b[0m\u001b[1;32m     46\u001b[0m             \u001b[0mcanvas\u001b[0m \u001b[0;34m=\u001b[0m \u001b[0mFigureCanvasAgg\u001b[0m\u001b[0;34m(\u001b[0m\u001b[0mfig\u001b[0m\u001b[0;34m)\u001b[0m\u001b[0;34m\u001b[0m\u001b[0;34m\u001b[0m\u001b[0m\n\u001b[1;32m     47\u001b[0m         \u001b[0mfig\u001b[0m\u001b[0;34m.\u001b[0m\u001b[0msavefig\u001b[0m\u001b[0;34m(\u001b[0m\u001b[0mio\u001b[0m\u001b[0;34m.\u001b[0m\u001b[0mBytesIO\u001b[0m\u001b[0;34m(\u001b[0m\u001b[0;34m)\u001b[0m\u001b[0;34m,\u001b[0m \u001b[0mformat\u001b[0m\u001b[0;34m=\u001b[0m\u001b[0;34m'png'\u001b[0m\u001b[0;34m,\u001b[0m \u001b[0mdpi\u001b[0m\u001b[0;34m=\u001b[0m\u001b[0mfig\u001b[0m\u001b[0;34m.\u001b[0m\u001b[0mdpi\u001b[0m\u001b[0;34m)\u001b[0m\u001b[0;34m\u001b[0m\u001b[0;34m\u001b[0m\u001b[0m\n",
      "\u001b[0;31mAttributeError\u001b[0m: 'Figure' object has no attribute 'canvas'"
     ]
    }
   ],
   "source": [
    "map = graph.Figure(data=[map_data])\n",
    "plotly.offline.plot(map)\n",
    "#map.write_image('image.png')\n",
    "driver = webdriver.PhantomJS(executable_path=\"phantomjs.exe\")\n",
    "driver.set_window_size(1000, 500)\n",
    "driver.get('temp-plot.html')\n",
    "driver.save_screenshot('my_plot.png')\n"
   ]
  },
  {
   "cell_type": "code",
   "execution_count": 41,
   "metadata": {},
   "outputs": [
    {
     "ename": "NameError",
     "evalue": "name 'usr' is not defined",
     "output_type": "error",
     "traceback": [
      "\u001b[0;31m---------------------------------------------------------------------------\u001b[0m",
      "\u001b[0;31mNameError\u001b[0m                                 Traceback (most recent call last)",
      "\u001b[0;32m<ipython-input-41-aee6b994fdfc>\u001b[0m in \u001b[0;36m<module>\u001b[0;34m\u001b[0m\n\u001b[0;32m----> 1\u001b[0;31m \u001b[0musr\u001b[0m\u001b[0;34m/\u001b[0m\u001b[0mbin\u001b[0m\u001b[0;34m/\u001b[0m\u001b[0morca\u001b[0m\u001b[0;34m(\u001b[0m\u001b[0;34m-\u001b[0m\u001b[0;34m-\u001b[0m\u001b[0mhelp\u001b[0m\u001b[0;34m)\u001b[0m\u001b[0;34m\u001b[0m\u001b[0;34m\u001b[0m\u001b[0m\n\u001b[0m",
      "\u001b[0;31mNameError\u001b[0m: name 'usr' is not defined"
     ]
    }
   ],
   "source": []
  },
  {
   "cell_type": "code",
   "execution_count": null,
   "metadata": {},
   "outputs": [],
   "source": []
  }
 ],
 "metadata": {
  "kernelspec": {
   "display_name": "Python 3",
   "language": "python",
   "name": "python3"
  },
  "language_info": {
   "codemirror_mode": {
    "name": "ipython",
    "version": 3
   },
   "file_extension": ".py",
   "mimetype": "text/x-python",
   "name": "python",
   "nbconvert_exporter": "python",
   "pygments_lexer": "ipython3",
   "version": "3.7.1"
  }
 },
 "nbformat": 4,
 "nbformat_minor": 2
}
